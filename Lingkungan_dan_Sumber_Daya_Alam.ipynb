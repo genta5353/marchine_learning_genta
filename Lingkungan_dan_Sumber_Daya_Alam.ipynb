{
  "nbformat": 4,
  "nbformat_minor": 0,
  "metadata": {
    "colab": {
      "private_outputs": true,
      "provenance": []
    },
    "kernelspec": {
      "name": "python3",
      "display_name": "Python 3"
    },
    "language_info": {
      "name": "python"
    }
  },
  "cells": [
    {
      "cell_type": "code",
      "execution_count": null,
      "metadata": {
        "id": "ptBaD1H4mBmi"
      },
      "outputs": [],
      "source": [
        "from google.colab import drive #memanggil package untuk path file\n",
        "drive.mount('/content/drive')\n",
        "#1. URL , 2. UPLOAD CSV , DATASET YANG DI SEDIAKAN OLEH SKLEARN"
      ]
    },
    {
      "cell_type": "code",
      "source": [
        "import pandas as pd #MANIPULASI DATA\n",
        "\n",
        "path ='/content/drive/MyDrive/Colab Notebooks/csv/Luas Hutan Rakyat  - Sheet1 (1).csv' #PATH ATAU PEMANGGIL\n",
        "df = pd.read_csv(path) #DF : DATAFRAME / UNTUK PENAMAAN BEBAS\n",
        "\n",
        "df.describe() #melihat struktur data"
      ],
      "metadata": {
        "id": "C50C9tD0rSe6"
      },
      "execution_count": null,
      "outputs": []
    },
    {
      "cell_type": "code",
      "source": [
        "from google.colab import drive\n",
        "drive.mount('/content/drive')"
      ],
      "metadata": {
        "id": "l9Ffj7O6sEB3"
      },
      "execution_count": null,
      "outputs": []
    },
    {
      "cell_type": "code",
      "source": [
        "df"
      ],
      "metadata": {
        "id": "2cYe0ButsMOo"
      },
      "execution_count": null,
      "outputs": []
    },
    {
      "cell_type": "code",
      "source": [
        "import matplotlib.pyplot as plt #VISUALISASI DATA\n",
        "\n",
        "df.plot(kind='scatter', x='pm2', y='pm1') #UNTUK NAMA VARIABLE\n",
        "\n",
        "plt.title('indeks lingkungan & sumber daya alam')\n",
        "plt.xlabel('jumlah penduduk')\n",
        "plt.ylabel('indeks')\n",
        "plt.xlim(0, 12500000)  #UNTUK MEMBUAT BATAS PADA VISUALISASI X\n",
        "plt.ylim(5, 50)  #UNTUK MEMBUAT BATAS PADA VISUALISASI Y\n",
        "plt.grid(True)\n",
        "plt.show()\n"
      ],
      "metadata": {
        "id": "zIvI9G9CGLLH"
      },
      "execution_count": null,
      "outputs": []
    },
    {
      "cell_type": "code",
      "source": [
        "import numpy as np\n",
        "x = np.array(df['pm2']) #Feature\n",
        "y = np.array(df['pm1']) #Target\n",
        "\n",
        "print(f'x : {x}') #DATA X ITU ADALAH VARIABLE INDEPENDET ATAU BEBAS\n",
        "print(f'y : {y}') #VAR Y ITU ADALAH VARIABLE TERIKAT?DEPENDENT"
      ],
      "metadata": {
        "id": "ymTjMcNSL7TI"
      },
      "execution_count": null,
      "outputs": []
    },
    {
      "cell_type": "code",
      "source": [
        "X = x.reshape(-1, 1) #Reshaping atau slice data\n",
        "X.shape"
      ],
      "metadata": {
        "id": "NoNyJdckMBq3"
      },
      "execution_count": null,
      "outputs": []
    },
    {
      "cell_type": "code",
      "source": [
        "X"
      ],
      "metadata": {
        "id": "wk5MHUsjWHXY"
      },
      "execution_count": null,
      "outputs": []
    },
    {
      "cell_type": "code",
      "source": [
        "#training model\n",
        "from sklearn.linear_model import LinearRegression #MEMANGGIL MODEL REGRESSI LINEAR\n",
        "\n",
        "model = LinearRegression() #VARIABLE MODEL BISA DI GANTI\n",
        "model.fit(X, y) #X feature , y target\n",
        "#(PROSES NILAI X) ----> = Y (TARGET)\n",
        "\n",
        "#menjadi training model"
      ],
      "metadata": {
        "id": "3xK6ovKnWKmG"
      },
      "execution_count": null,
      "outputs": []
    },
    {
      "cell_type": "code",
      "source": [
        "X_vis = np.array([0, 12500000]).reshape(-1, 1) #pembuatan garis merah dari X\n",
        "y_vis = model.predict(X_vis) #MODEL MACHINE LEARNING"
      ],
      "metadata": {
        "id": "l0yrWK8gWOAN"
      },
      "execution_count": null,
      "outputs": []
    },
    {
      "cell_type": "code",
      "source": [
        "plt.scatter(X, y)\n",
        "plt.plot(X_vis, y_vis, '-r')\n",
        "plt.title('indeks lingkungan & sumber daya alam')\n",
        "plt.xlabel('pm2')\n",
        "plt.ylabel('pm1')\n",
        "plt.xlim(0, 12500000) #UNTUK MEMBUAT BATAS PADA VISUALISASI X\n",
        "plt.ylim(5, 46) #UNTUK MEMBUAT BATAS PADA VISUALISASI Y\n",
        "plt.grid(True)\n",
        "plt.show()"
      ],
      "metadata": {
        "id": "_Pvo5SnxWQd6"
      },
      "execution_count": null,
      "outputs": []
    },
    {
      "cell_type": "code",
      "source": [
        "df['pm2'].sum()"
      ],
      "metadata": {
        "id": "d_DtjIH3DVuC"
      },
      "execution_count": null,
      "outputs": []
    },
    {
      "cell_type": "code",
      "source": [
        "df['pm1'].sum()"
      ],
      "metadata": {
        "id": "YbiRTl6SDdsD"
      },
      "execution_count": null,
      "outputs": []
    },
    {
      "cell_type": "code",
      "source": [
        "fig = plt.figure()\n",
        "ax = fig.add_axes([0,0,1,1])\n",
        "indeks = ['pm2' , 'pm1']\n",
        "jumlah = [84625000, 404]\n",
        "c = ['red', 'green', 'blue', 'yellow']\n",
        "plt.title('indeks lingkungan & sumber daya alam')\n",
        "plt.xlabel('pm1')\n",
        "plt.ylabel('pm2')\n",
        "plt.bar(indeks, jumlah, color = c)\n",
        "plt.grid(True)\n",
        "plt.show()\n",
        "\n"
      ],
      "metadata": {
        "id": "_4l3Q7rWyMzB"
      },
      "execution_count": null,
      "outputs": []
    },
    {
      "cell_type": "code",
      "source": [
        "fig = plt.figure()\n",
        "ax = fig.add_axes([0,0,1,1])\n",
        "indeks = (df['pm1'])\n",
        "jumlah = (df['pm2'])\n",
        "c = ['red', 'green', 'blue', 'yellow']\n",
        "plt.title('indeks lingkungan & sumber daya alam')\n",
        "plt.xlabel('pm1')\n",
        "plt.ylabel('pm2')\n",
        "ax.pie(jumlah,labels=indeks,autopct='%1.2f%%')\n",
        "plt.grid(True)\n",
        "plt.show()\n",
        "\n"
      ],
      "metadata": {
        "id": "p0qkI25A11Rx"
      },
      "execution_count": null,
      "outputs": []
    },
    {
      "cell_type": "code",
      "source": [
        "print(f'intercept : {model.intercept_}')\n",
        "print(f'slope : {model.coef_}')\n",
        "# alpha = Intercept merupakan titik dari sumbu Y garis linier menabrak nilai X ketika 0\n",
        "# beta = nilai slope berpengaruh terhadap kemiringan garis linier yang terbentuk"
      ],
      "metadata": {
        "id": "g0wBoi6P3ayg"
      },
      "execution_count": null,
      "outputs": []
    },
    {
      "cell_type": "code",
      "source": [
        "#Prediksi Sample Data\n",
        "indeks = np.array([267330, 928000, 833200, 66200, 78200,]).reshape(-1, 1)\n",
        "indeks"
      ],
      "metadata": {
        "id": "iwbsTVCl3eNC"
      },
      "execution_count": null,
      "outputs": []
    },
    {
      "cell_type": "code",
      "source": [
        "prediksi_indeks = model.predict(indeks)\n",
        "prediksi_indeks"
      ],
      "metadata": {
        "id": "NmL5EDA032hm"
      },
      "execution_count": null,
      "outputs": []
    },
    {
      "cell_type": "code",
      "source": [
        "for penduduk, index in zip(indeks, prediksi_indeks):\n",
        "  print(f'Jumlah indeks : {penduduk} prediksi indeks : {index}')"
      ],
      "metadata": {
        "id": "feiCEcVr4vU2"
      },
      "execution_count": null,
      "outputs": []
    }
  ]
}