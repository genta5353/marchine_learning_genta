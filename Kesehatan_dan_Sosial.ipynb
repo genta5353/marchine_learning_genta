{
  "nbformat": 4,
  "nbformat_minor": 0,
  "metadata": {
    "colab": {
      "private_outputs": true,
      "provenance": []
    },
    "kernelspec": {
      "name": "python3",
      "display_name": "Python 3"
    },
    "language_info": {
      "name": "python"
    }
  },
  "cells": [
    {
      "cell_type": "code",
      "execution_count": null,
      "metadata": {
        "id": "hq9j09-IEHpW"
      },
      "outputs": [],
      "source": [
        "from google.colab import drive #memanggil package untuk path file\n",
        "drive.mount('/content/drive')\n",
        "#1. URL , 2. UPLOAD CSV , DATASET YANG DI SEDIAKAN OLEH SKLEARN"
      ]
    },
    {
      "cell_type": "code",
      "source": [
        "import pandas as pd #MANIPULASI DATA\n",
        "\n",
        "path ='/content/drive/MyDrive/Colab Notebooks/csv/Indeks Standar Pencemar Udara  - Sheet1 (1).csv' #PATH ATAU PEMANGGIL\n",
        "df = pd.read_csv(path) #DF : DATAFRAME / UNTUK PENAMAAN BEBAS\n",
        "\n",
        "df.describe() #melihat struktur data"
      ],
      "metadata": {
        "id": "rAR8jCIlElFy"
      },
      "execution_count": null,
      "outputs": []
    },
    {
      "cell_type": "code",
      "source": [
        "from google.colab import drive\n",
        "drive.mount('/content/drive')"
      ],
      "metadata": {
        "id": "6PuPCiiRFDqS"
      },
      "execution_count": null,
      "outputs": []
    },
    {
      "cell_type": "code",
      "source": [
        "df"
      ],
      "metadata": {
        "id": "YETzgDjjlBkZ"
      },
      "execution_count": null,
      "outputs": []
    },
    {
      "cell_type": "code",
      "source": [
        "import matplotlib.pyplot as plt #VISUALISASI DATA\n",
        "\n",
        "df.plot(kind='scatter', x='max', y='pm10') #UNTUK NAMA VARIABLE\n",
        "\n",
        "plt.title('indeks Kesehatan & Sosial')\n",
        "plt.xlabel('max')\n",
        "plt.ylabel('pm10')\n",
        "plt.xlim(0, 120)  #UNTUK MEMBUAT BATAS PADA VISUALISASI X\n",
        "plt.ylim(0, 100)  #UNTUK MEMBUAT BATAS PADA VISUALISASI Y\n",
        "plt.grid(True)\n",
        "plt.show()\n"
      ],
      "metadata": {
        "id": "MhvXLCNJlFVB"
      },
      "execution_count": null,
      "outputs": []
    },
    {
      "cell_type": "code",
      "source": [
        "import numpy as np\n",
        "x = np.array(df['max']) #Feature\n",
        "y = np.array(df['pm10']) #Target\n",
        "\n",
        "print(f'x : {x}') #DATA X ITU ADALAH VARIABLE INDEPENDET ATAU BEBAS\n",
        "print(f'y : {y}') #VAR Y ITU ADALAH VARIABLE TERIKAT?DEPENDENT"
      ],
      "metadata": {
        "id": "dGswNdSulWsY"
      },
      "execution_count": null,
      "outputs": []
    },
    {
      "cell_type": "code",
      "source": [
        "X = x.reshape(-1, 1) #Reshaping atau slice data\n",
        "X.shape"
      ],
      "metadata": {
        "id": "3kbr7ysKlrma"
      },
      "execution_count": null,
      "outputs": []
    },
    {
      "cell_type": "code",
      "source": [
        "X"
      ],
      "metadata": {
        "id": "LtBItk6nluYz"
      },
      "execution_count": null,
      "outputs": []
    },
    {
      "cell_type": "code",
      "source": [
        "#training model\n",
        "from sklearn.linear_model import LinearRegression #MEMANGGIL MODEL REGRESSI LINEAR\n",
        "\n",
        "model = LinearRegression() #VARIABLE MODEL BISA DI GANTI\n",
        "model.fit(X, y) #X feature , y target\n",
        "#(PROSES NILAI X) ----> = Y (TARGET)\n",
        "\n",
        "#menjadi training model"
      ],
      "metadata": {
        "id": "wdjAZAU-lwPW"
      },
      "execution_count": null,
      "outputs": []
    },
    {
      "cell_type": "code",
      "source": [
        "X_vis = np.array([0, 110]).reshape(-1, 1) #pembuatan garis merah dari X\n",
        "y_vis = model.predict(X_vis) #MODEL MACHINE LEARNING"
      ],
      "metadata": {
        "id": "cQaGcGtZlzmg"
      },
      "execution_count": null,
      "outputs": []
    },
    {
      "cell_type": "code",
      "source": [
        "plt.scatter(X, y)\n",
        "plt.plot(X_vis, y_vis, '-r')\n",
        "plt.title('indeks Kesehatan & Sosial')\n",
        "plt.xlabel('max')\n",
        "plt.ylabel('pm10')\n",
        "plt.xlim(0, 110) #UNTUK MEMBUAT BATAS PADA VISUALISASI X\n",
        "plt.ylim(23, 75) #UNTUK MEMBUAT BATAS PADA VISUALISASI Y\n",
        "plt.grid(True)\n",
        "plt.show()"
      ],
      "metadata": {
        "id": "fSU6ub1-l4wb"
      },
      "execution_count": null,
      "outputs": []
    },
    {
      "cell_type": "code",
      "source": [
        "df['max'].sum()"
      ],
      "metadata": {
        "id": "Y8_0InDjh7Vh"
      },
      "execution_count": null,
      "outputs": []
    },
    {
      "cell_type": "code",
      "source": [
        "df['pm10'].sum()"
      ],
      "metadata": {
        "id": "65_p1Fg8iCVw"
      },
      "execution_count": null,
      "outputs": []
    },
    {
      "cell_type": "code",
      "source": [
        "fig = plt.figure()\n",
        "ax = fig.add_axes([0,0,1,1])\n",
        "indeks = ['max' , 'pm10']\n",
        "jumlah = [1687, 1369]\n",
        "c = ['red', 'green', 'blue', 'yellow']\n",
        "plt.title('indeks Kesehatan & Sosial')\n",
        "plt.xlabel('max')\n",
        "plt.ylabel('pm10')\n",
        "plt.bar(indeks, jumlah, color = c)\n",
        "plt.grid(True)\n",
        "plt.show()"
      ],
      "metadata": {
        "id": "80Ucxo-IiFzZ"
      },
      "execution_count": null,
      "outputs": []
    },
    {
      "cell_type": "code",
      "source": [
        "fig = plt.figure()\n",
        "ax = fig.add_axes([0,0,1,1])\n",
        "indeks = ['max' , 'pm10']\n",
        "jumlah = [1687, 1369]\n",
        "c = ['red', 'green', 'blue', 'yellow']\n",
        "plt.title('indeks Kesehatan & Sosial')\n",
        "plt.xlabel('max')\n",
        "plt.ylabel('pm10')\n",
        "ax.pie(jumlah,labels=indeks,autopct='%1.2f%%')\n",
        "plt.grid(True)\n",
        "plt.show()"
      ],
      "metadata": {
        "id": "ZiMA5Gluiaal"
      },
      "execution_count": null,
      "outputs": []
    },
    {
      "cell_type": "code",
      "source": [
        "print(f'intercept : {model.intercept_}')\n",
        "print(f'slope : {model.coef_}')\n",
        "# alpha = Intercept merupakan titik dari sumbu Y garis linier menabrak nilai X ketika 0\n",
        "# beta = nilai slope berpengaruh terhadap kemiringan garis linier yang terbentuk"
      ],
      "metadata": {
        "id": "w3UfDNJfihcx"
      },
      "execution_count": null,
      "outputs": []
    },
    {
      "cell_type": "code",
      "source": [
        "#Prediksi Sample Data\n",
        "indeks = np.array([267330, 928000, 833200, 66200, 78200,]).reshape(-1, 1)\n",
        "indeks"
      ],
      "metadata": {
        "id": "HHaPAFKxikvf"
      },
      "execution_count": null,
      "outputs": []
    },
    {
      "cell_type": "code",
      "source": [
        "prediksi_indeks = model.predict(indeks)\n",
        "prediksi_indeks"
      ],
      "metadata": {
        "id": "bVQoTFboinYW"
      },
      "execution_count": null,
      "outputs": []
    },
    {
      "cell_type": "code",
      "source": [
        "for penduduk, index in zip(indeks, prediksi_indeks):\n",
        "  print(f'Jumlah indeks : {penduduk} prediksi indeks : {index}')"
      ],
      "metadata": {
        "id": "zN56roxEip_A"
      },
      "execution_count": null,
      "outputs": []
    }
  ]
}