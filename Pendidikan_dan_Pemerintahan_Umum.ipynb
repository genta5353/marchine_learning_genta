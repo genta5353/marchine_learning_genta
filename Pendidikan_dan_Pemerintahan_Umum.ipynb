{
  "nbformat": 4,
  "nbformat_minor": 0,
  "metadata": {
    "colab": {
      "private_outputs": true,
      "provenance": []
    },
    "kernelspec": {
      "name": "python3",
      "display_name": "Python 3"
    },
    "language_info": {
      "name": "python"
    }
  },
  "cells": [
    {
      "cell_type": "code",
      "execution_count": null,
      "metadata": {
        "id": "RlZZcwoeEdDv"
      },
      "outputs": [],
      "source": [
        "from google.colab import drive #memanggil package untuk path file\n",
        "drive.mount('/content/drive')\n",
        "#1. URL , 2. UPLOAD CSV , DATASET YANG DI SEDIAKAN OLEH SKLEARN"
      ]
    },
    {
      "cell_type": "code",
      "source": [
        "import pandas as pd #MANIPULASI DATA\n",
        "\n",
        "path ='/content/drive/MyDrive/Colab Notebooks/csv/Data Sekolah Dasar Provinsi DKI Jakarta  - Sheet1 (1).csv' #PATH ATAU PEMANGGIL\n",
        "df = pd.read_csv(path) #DF : DATAFRAME / UNTUK PENAMAAN BEBAS\n",
        "\n",
        "df.describe() #melihat struktur data"
      ],
      "metadata": {
        "id": "ktMakebjEmH9"
      },
      "execution_count": null,
      "outputs": []
    },
    {
      "cell_type": "code",
      "source": [
        "from google.colab import drive\n",
        "drive.mount('/content/drive')"
      ],
      "metadata": {
        "id": "2LEAtB44FEXd"
      },
      "execution_count": null,
      "outputs": []
    },
    {
      "cell_type": "code",
      "source": [
        "df"
      ],
      "metadata": {
        "id": "8il96KgifSki"
      },
      "execution_count": null,
      "outputs": []
    },
    {
      "cell_type": "code",
      "source": [
        "import matplotlib.pyplot as plt #VISUALISASI DATA\n",
        "\n",
        "df.plot(kind='scatter', x='jumlah_siswa', y='jumlah_guru') #UNTUK NAMA VARIABLE\n",
        "\n",
        "plt.title('indeks Pendidikan dan Pemerintahan Umum')\n",
        "plt.xlabel('jumlah Pendidikan')\n",
        "plt.ylabel('indeks')\n",
        "plt.xlim(0, 1100)  #UNTUK MEMBUAT BATAS PADA VISUALISASI X\n",
        "plt.ylim(0, 50)  #UNTUK MEMBUAT BATAS PADA VISUALISASI Y\n",
        "plt.grid(True)\n",
        "plt.show()\n"
      ],
      "metadata": {
        "id": "TDj3xOXDfVRp"
      },
      "execution_count": null,
      "outputs": []
    },
    {
      "cell_type": "code",
      "source": [
        "import numpy as np\n",
        "x = np.array(df['jumlah_siswa']) #Feature\n",
        "y = np.array(df['jumlah_guru']) #Target\n",
        "\n",
        "print(f'x : {x}') #DATA X ITU ADALAH VARIABLE INDEPENDET ATAU BEBAS\n",
        "print(f'y : {y}') #VAR Y ITU ADALAH VARIABLE TERIKAT?DEPENDENT"
      ],
      "metadata": {
        "id": "XmYnWdNThNCO"
      },
      "execution_count": null,
      "outputs": []
    },
    {
      "cell_type": "code",
      "source": [
        "X = x.reshape(-1, 1) #Reshaping atau slice data\n",
        "X.shape"
      ],
      "metadata": {
        "id": "3Fox3Z02iCIs"
      },
      "execution_count": null,
      "outputs": []
    },
    {
      "cell_type": "code",
      "source": [
        "X"
      ],
      "metadata": {
        "id": "L3j91u33iENl"
      },
      "execution_count": null,
      "outputs": []
    },
    {
      "cell_type": "code",
      "source": [
        "#training model\n",
        "from sklearn.linear_model import LinearRegression #MEMANGGIL MODEL REGRESSI LINEAR\n",
        "\n",
        "model = LinearRegression() #VARIABLE MODEL BISA DI GANTI\n",
        "model.fit(X, y) #X feature , y target\n",
        "#(PROSES NILAI X) ----> = Y (TARGET)\n",
        "\n",
        "#menjadi training model"
      ],
      "metadata": {
        "id": "5yoEjV-tiGP0"
      },
      "execution_count": null,
      "outputs": []
    },
    {
      "cell_type": "code",
      "source": [
        "X_vis = np.array([0,  1100]).reshape(-1, 1) #pembuatan garis merah dari X\n",
        "y_vis = model.predict(X_vis) #MODEL MACHINE LEARNING"
      ],
      "metadata": {
        "id": "7nI7mGwziJpY"
      },
      "execution_count": null,
      "outputs": []
    },
    {
      "cell_type": "code",
      "source": [
        "plt.scatter(X, y)\n",
        "plt.plot(X_vis, y_vis, '-r')\n",
        "plt.title('indeks lingkungan & sumber daya alam')\n",
        "plt.xlabel('jumlah penduduk')\n",
        "plt.ylabel('indeks')\n",
        "plt.xlim(0,  1100) #UNTUK MEMBUAT BATAS PADA VISUALISASI X\n",
        "plt.ylim(4, 40) #UNTUK MEMBUAT BATAS PADA VISUALISASI Y\n",
        "plt.grid(True)\n",
        "plt.show()"
      ],
      "metadata": {
        "id": "oeIGjV25iMvl"
      },
      "execution_count": null,
      "outputs": []
    },
    {
      "cell_type": "code",
      "source": [
        "df['jumlah_siswa'].sum()"
      ],
      "metadata": {
        "id": "mWQH1sdnBHmm"
      },
      "execution_count": null,
      "outputs": []
    },
    {
      "cell_type": "code",
      "source": [
        "df['jumlah_guru'].sum()"
      ],
      "metadata": {
        "id": "3_vlSYznCGfu"
      },
      "execution_count": null,
      "outputs": []
    },
    {
      "cell_type": "code",
      "source": [
        "fig = plt.figure()\n",
        "ax = fig.add_axes([0,0,1,1])\n",
        "indeks = ['jumlah_siswa' , 'jumlah_guru']\n",
        "jumlah = [17506, 739]\n",
        "c = ['red', 'green', 'blue', 'yellow']\n",
        "plt.title('indeks lingkungan & sumber daya alam')\n",
        "plt.xlabel('jumlah penduduk')\n",
        "plt.ylabel('indeks')\n",
        "plt.bar(indeks, jumlah, color = c)\n",
        "plt.grid(True)\n",
        "plt.show()"
      ],
      "metadata": {
        "id": "uJ27CgGq7oRC"
      },
      "execution_count": null,
      "outputs": []
    },
    {
      "cell_type": "code",
      "source": [
        "fig = plt.figure()\n",
        "ax = fig.add_axes([0,0,1,1])\n",
        "indeks = ['jumlah_siswa' , 'jumlah_guru']\n",
        "jumlah = [17506, 739]\n",
        "c = ['red', 'green', 'blue', 'yellow']\n",
        "plt.title('indeks lingkungan & sumber daya alam')\n",
        "plt.xlabel('jumlah penduduk')\n",
        "plt.ylabel('indeks')\n",
        "ax.pie(jumlah,labels=indeks,autopct='%1.2f%%')\n",
        "plt.grid(True)\n",
        "plt.show()"
      ],
      "metadata": {
        "id": "S5MJgxA1AiEH"
      },
      "execution_count": null,
      "outputs": []
    },
    {
      "cell_type": "code",
      "source": [
        "print(f'intercept : {model.intercept_}')\n",
        "print(f'slope : {model.coef_}')\n",
        "# alpha = Intercept merupakan titik dari sumbu Y garis linier menabrak nilai X ketika 0\n",
        "# beta = nilai slope berpengaruh terhadap kemiringan garis linier yang terbentuk"
      ],
      "metadata": {
        "id": "0kDZvtCiA9zZ"
      },
      "execution_count": null,
      "outputs": []
    },
    {
      "cell_type": "code",
      "source": [
        "#Prediksi Sample Data\n",
        "indeks = np.array([267330, 928000, 833200, 66200, 78200,]).reshape(-1, 1)\n",
        "indeks"
      ],
      "metadata": {
        "id": "tZ95cI8PBB7M"
      },
      "execution_count": null,
      "outputs": []
    },
    {
      "cell_type": "code",
      "source": [
        "prediksi_indeks = model.predict(indeks)\n",
        "prediksi_indeks"
      ],
      "metadata": {
        "id": "uIc0Z_ZQEiD1"
      },
      "execution_count": null,
      "outputs": []
    },
    {
      "cell_type": "code",
      "source": [
        "for penduduk, index in zip(indeks, prediksi_indeks):\n",
        "  print(f'Jumlah indeks : {penduduk} prediksi indeks : {index}')"
      ],
      "metadata": {
        "id": "c8Jz5B5SEl0h"
      },
      "execution_count": null,
      "outputs": []
    }
  ]
}